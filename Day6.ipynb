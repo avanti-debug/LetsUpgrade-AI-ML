{
 "cells": [
  {
   "cell_type": "markdown",
   "metadata": {},
   "source": [
    "__Assignment_1__"
   ]
  },
  {
   "cell_type": "code",
   "execution_count": 34,
   "metadata": {},
   "outputs": [
    {
     "name": "stdout",
     "output_type": "stream",
     "text": [
      "Enter the email address :\n",
      "tapleavanti@gmail.com\n",
      "gmail\n"
     ]
    }
   ],
   "source": [
    "print(\"Enter the email address :\")\n",
    "s=input()\n",
    "x=s.split(\"@\")[1]\n",
    "print(x.split(\".\")[0])"
   ]
  },
  {
   "cell_type": "markdown",
   "metadata": {},
   "source": [
    "__Assignment_2__"
   ]
  },
  {
   "cell_type": "code",
   "execution_count": 44,
   "metadata": {},
   "outputs": [
    {
     "name": "stdout",
     "output_type": "stream",
     "text": [
      "Enter a sequence of words :\n",
      "up down left right new old\n",
      "['down', 'left', 'new', 'old', 'right', 'up']\n"
     ]
    }
   ],
   "source": [
    "print(\"Enter a sequence of words :\")\n",
    "s=input()\n",
    "x=s.split(' ')\n",
    "lst=[]\n",
    "for i in x:\n",
    "    lst.append((i))\n",
    "lst.sort()\n",
    "print(lst)"
   ]
  },
  {
   "cell_type": "markdown",
   "metadata": {},
   "source": [
    "__Assignment_3__"
   ]
  },
  {
   "cell_type": "code",
   "execution_count": 36,
   "metadata": {},
   "outputs": [
    {
     "name": "stdout",
     "output_type": "stream",
     "text": [
      "{34, 67, 98, 45, 87, 24, 56}\n",
      "34\n",
      "67\n",
      "98\n",
      "45\n",
      "87\n",
      "24\n",
      "56\n",
      "{34, 67, 98, 'grapes', 45, 'orange', 87, 24, 56, 'mango'}\n",
      "10\n"
     ]
    }
   ],
   "source": [
    "#creation of list\n",
    "my_set = {24,67,56,45,34,87,98}\n",
    "print(my_set)\n",
    "\n",
    "#accessing elements of set\n",
    "for x in my_set:\n",
    "    print(x)\n",
    "    \n",
    "#update the set with new set \n",
    "my_set.update([\"orange\", \"mango\", \"grapes\"])\n",
    "print(my_set)\n",
    "\n",
    "#get the length of set\n",
    "print(len(my_set))"
   ]
  },
  {
   "cell_type": "markdown",
   "metadata": {},
   "source": [
    "__Assignment_4__"
   ]
  },
  {
   "cell_type": "code",
   "execution_count": 37,
   "metadata": {},
   "outputs": [
    {
     "name": "stdout",
     "output_type": "stream",
     "text": [
      "Enter the list of elements :\n",
      "1 2 3 5 6 7\n",
      "4\n"
     ]
    }
   ],
   "source": [
    "print(\"Enter the list of elements :\")\n",
    "s=input()\n",
    "x=s.split(' ')\n",
    "lst=[]\n",
    "for i in x:\n",
    "    lst.append(int(i))\n",
    "n = len(lst) \n",
    "total = (n + 1)*(n + 2)/2\n",
    "sum_of_lst = sum(lst) \n",
    "miss=(total - sum_of_lst)\n",
    "print(int(miss)) "
   ]
  },
  {
   "cell_type": "markdown",
   "metadata": {},
   "source": [
    "__Assignment_5__"
   ]
  },
  {
   "cell_type": "code",
   "execution_count": 38,
   "metadata": {},
   "outputs": [
    {
     "name": "stdout",
     "output_type": "stream",
     "text": [
      "{1, 2, 3, 4, 5}\n"
     ]
    }
   ],
   "source": [
    "s=[1,2,2,3,4,5]\n",
    "print(set(s))"
   ]
  }
 ],
 "metadata": {
  "kernelspec": {
   "display_name": "Python 3",
   "language": "python",
   "name": "python3"
  },
  "language_info": {
   "codemirror_mode": {
    "name": "ipython",
    "version": 3
   },
   "file_extension": ".py",
   "mimetype": "text/x-python",
   "name": "python",
   "nbconvert_exporter": "python",
   "pygments_lexer": "ipython3",
   "version": "3.7.6"
  }
 },
 "nbformat": 4,
 "nbformat_minor": 4
}
