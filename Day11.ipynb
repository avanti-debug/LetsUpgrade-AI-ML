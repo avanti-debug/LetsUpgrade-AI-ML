{
 "cells": [
  {
   "cell_type": "code",
   "execution_count": 1,
   "metadata": {},
   "outputs": [
    {
     "name": "stdout",
     "output_type": "stream",
     "text": [
      "0.0032462548325940927\n"
     ]
    }
   ],
   "source": [
    "import pandas as ps\n",
    "import numpy as nm\n",
    "import matplotlib.pyplot as plt\n",
    "\n",
    "mydata=ps.read_csv(\"C:/Users/Dell/Downloads/general_data.csv\")\n",
    "\n",
    "from scipy.stats import pearsonr\n",
    "stats,p=pearsonr(mydata.MonthlyIncome,mydata.Age)\n",
    "print(p)"
   ]
  },
  {
   "cell_type": "markdown",
   "metadata": {},
   "source": [
    "As value of correlation between Age and monthly income is positive ,there is chance of attrition"
   ]
  },
  {
   "cell_type": "code",
   "execution_count": 4,
   "metadata": {},
   "outputs": [
    {
     "name": "stdout",
     "output_type": "stream",
     "text": [
      "0.9473352509263793\n"
     ]
    }
   ],
   "source": [
    "stats,p=pearsonr(mydata.YearsAtCompany,mydata.MonthlyIncome)\n",
    "print(p)"
   ]
  },
  {
   "cell_type": "markdown",
   "metadata": {},
   "source": [
    "As value of correlation between Years at company and monthly income is positive ,there is chance of attrition\n",
    "\n"
   ]
  },
  {
   "cell_type": "code",
   "execution_count": null,
   "metadata": {},
   "outputs": [],
   "source": []
  }
 ],
 "metadata": {
  "kernelspec": {
   "display_name": "Python 3",
   "language": "python",
   "name": "python3"
  },
  "language_info": {
   "codemirror_mode": {
    "name": "ipython",
    "version": 3
   },
   "file_extension": ".py",
   "mimetype": "text/x-python",
   "name": "python",
   "nbconvert_exporter": "python",
   "pygments_lexer": "ipython3",
   "version": "3.7.6"
  }
 },
 "nbformat": 4,
 "nbformat_minor": 4
}
