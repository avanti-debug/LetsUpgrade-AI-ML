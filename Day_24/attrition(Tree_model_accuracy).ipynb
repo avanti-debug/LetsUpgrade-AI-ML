{
 "cells": [
  {
   "cell_type": "code",
   "execution_count": 61,
   "metadata": {},
   "outputs": [],
   "source": [
    "#importing necessary libraries\n",
    "import pandas as pd\n",
    "import numpy as np\n",
    "from sklearn import preprocessing\n",
    "from sklearn import tree\n",
    "from sklearn.ensemble import RandomForestClassifier\n",
    "\n",
    "#loading working file in variable data\n",
    "data=pd.read_csv(\"C:/Users/Dell/Downloads/general_data.csv\")"
   ]
  },
  {
   "cell_type": "code",
   "execution_count": 62,
   "metadata": {
    "scrolled": true
   },
   "outputs": [
    {
     "data": {
      "text/plain": [
       "Index(['Age', 'Attrition', 'BusinessTravel', 'Department', 'DistanceFromHome',\n",
       "       'Education', 'EducationField', 'EmployeeCount', 'EmployeeID', 'Gender',\n",
       "       'JobLevel', 'JobRole', 'MaritalStatus', 'MonthlyIncome',\n",
       "       'NumCompaniesWorked', 'Over18', 'PercentSalaryHike', 'StandardHours',\n",
       "       'StockOptionLevel', 'TotalWorkingYears', 'TrainingTimesLastYear',\n",
       "       'YearsAtCompany', 'YearsSinceLastPromotion', 'YearsWithCurrManager'],\n",
       "      dtype='object')"
      ]
     },
     "execution_count": 62,
     "metadata": {},
     "output_type": "execute_result"
    }
   ],
   "source": [
    "#Reading data features\n",
    "data.columns\n"
   ]
  },
  {
   "cell_type": "code",
   "execution_count": 63,
   "metadata": {},
   "outputs": [],
   "source": [
    "#Cleaning of data\n",
    "data.isna().sum()\n",
    "data[\"NumCompaniesWorked\"] = data[\"NumCompaniesWorked\"].fillna(0)\n",
    "data[\"TotalWorkingYears\"] = data[\"TotalWorkingYears\"].fillna(0)\n",
    "data1=data.drop(['EmployeeCount', 'EmployeeID', 'Over18','StandardHours'],axis=1)"
   ]
  },
  {
   "cell_type": "code",
   "execution_count": 64,
   "metadata": {},
   "outputs": [],
   "source": [
    "label_encoder=preprocessing.LabelEncoder()\n",
    "#Converting Object type variables to numerical type\n",
    "encoded_BT=label_encoder.fit_transform(data[\"BusinessTravel\"])\n",
    "data[\"BusinessTravel\"]=encoded_BT\n",
    "\n",
    "encoded_D=label_encoder.fit_transform(data[\"Department\"])\n",
    "data[\"Department\"]=encoded_D\n",
    "\n",
    "encoded_EF=label_encoder.fit_transform(data[\"EducationField\"])\n",
    "data[\"EducationField\"]=encoded_EF\n",
    "\n",
    "encoded_Gender=label_encoder.fit_transform(data[\"Gender\"])\n",
    "data[\"Gender\"]=encoded_Gender\n",
    "\n",
    "encoded_JR=label_encoder.fit_transform(data[\"JobRole\"])\n",
    "data[\"JobRole\"]=encoded_JR\n",
    "\n",
    "encoded_MS=label_encoder.fit_transform(data[\"MaritalStatus\"])\n",
    "data[\"MaritalStatus\"]=encoded_MS\n",
    "\n",
    "encoded_Attrition=label_encoder.fit_transform(data[\"Attrition\"])\n",
    "data[\"Attrition\"]=encoded_Attrition\n"
   ]
  },
  {
   "cell_type": "code",
   "execution_count": 65,
   "metadata": {},
   "outputs": [],
   "source": [
    "#Declaring Features of model\n",
    "rf_model=RandomForestClassifier(n_estimators=1000,max_features=2,oob_score=True)"
   ]
  },
  {
   "cell_type": "code",
   "execution_count": 66,
   "metadata": {},
   "outputs": [],
   "source": [
    "#Inserting all independent variables in one variable\n",
    "features=['Age', 'BusinessTravel', 'Department', 'DistanceFromHome','Education', 'EducationField', 'Gender','JobLevel', 'JobRole', 'MaritalStatus', 'MonthlyIncome','NumCompaniesWorked', 'PercentSalaryHike','StockOptionLevel', 'TotalWorkingYears', 'TrainingTimesLastYear','YearsAtCompany', 'YearsSinceLastPromotion', 'YearsWithCurrManager']"
   ]
  },
  {
   "cell_type": "code",
   "execution_count": 67,
   "metadata": {},
   "outputs": [
    {
     "data": {
      "text/plain": [
       "Age                        0\n",
       "Attrition                  0\n",
       "BusinessTravel             0\n",
       "Department                 0\n",
       "DistanceFromHome           0\n",
       "Education                  0\n",
       "EducationField             0\n",
       "EmployeeCount              0\n",
       "EmployeeID                 0\n",
       "Gender                     0\n",
       "JobLevel                   0\n",
       "JobRole                    0\n",
       "MaritalStatus              0\n",
       "MonthlyIncome              0\n",
       "NumCompaniesWorked         0\n",
       "Over18                     0\n",
       "PercentSalaryHike          0\n",
       "StandardHours              0\n",
       "StockOptionLevel           0\n",
       "TotalWorkingYears          0\n",
       "TrainingTimesLastYear      0\n",
       "YearsAtCompany             0\n",
       "YearsSinceLastPromotion    0\n",
       "YearsWithCurrManager       0\n",
       "dtype: int64"
      ]
     },
     "execution_count": 67,
     "metadata": {},
     "output_type": "execute_result"
    }
   ],
   "source": [
    "data.isna().sum()"
   ]
  },
  {
   "cell_type": "code",
   "execution_count": 68,
   "metadata": {},
   "outputs": [
    {
     "data": {
      "text/plain": [
       "RandomForestClassifier(bootstrap=True, ccp_alpha=0.0, class_weight=None,\n",
       "                       criterion='gini', max_depth=None, max_features=2,\n",
       "                       max_leaf_nodes=None, max_samples=None,\n",
       "                       min_impurity_decrease=0.0, min_impurity_split=None,\n",
       "                       min_samples_leaf=1, min_samples_split=2,\n",
       "                       min_weight_fraction_leaf=0.0, n_estimators=1000,\n",
       "                       n_jobs=None, oob_score=True, random_state=None,\n",
       "                       verbose=0, warm_start=False)"
      ]
     },
     "execution_count": 68,
     "metadata": {},
     "output_type": "execute_result"
    }
   ],
   "source": [
    "#Bulding Random forest model\n",
    "rf_model.fit(X=data[features],y=data[\"Attrition\"])"
   ]
  },
  {
   "cell_type": "code",
   "execution_count": 69,
   "metadata": {
    "scrolled": true
   },
   "outputs": [
    {
     "name": "stdout",
     "output_type": "stream",
     "text": [
      "Age 0.0968262138043058\n",
      "BusinessTravel 0.028516245575060477\n",
      "Department 0.026382068966143816\n",
      "DistanceFromHome 0.06915208370003904\n",
      "Education 0.0408139284355182\n",
      "EducationField 0.04165360894230432\n",
      "Gender 0.018678149825883787\n",
      "JobLevel 0.03746639696410638\n",
      "JobRole 0.05489781727145984\n",
      "MaritalStatus 0.039647067100330884\n",
      "MonthlyIncome 0.0948470219842821\n",
      "NumCompaniesWorked 0.05589786256499131\n",
      "PercentSalaryHike 0.06465680608414648\n",
      "StockOptionLevel 0.03438134051036892\n",
      "TotalWorkingYears 0.0841210526275168\n",
      "TrainingTimesLastYear 0.04487427124318641\n",
      "YearsAtCompany 0.07027527641593967\n",
      "YearsSinceLastPromotion 0.04305520699282571\n",
      "YearsWithCurrManager 0.053857580991590104\n"
     ]
    }
   ],
   "source": [
    "#Exporting important features from Random forest model\n",
    "for feature,imp in zip(features,rf_model.feature_importances_):\n",
    "    print(feature,imp);"
   ]
  },
  {
   "cell_type": "code",
   "execution_count": 71,
   "metadata": {},
   "outputs": [
    {
     "data": {
      "text/plain": [
       "DecisionTreeClassifier(ccp_alpha=0.0, class_weight=None, criterion='gini',\n",
       "                       max_depth=None, max_features=None, max_leaf_nodes=None,\n",
       "                       min_impurity_decrease=0.0, min_impurity_split=None,\n",
       "                       min_samples_leaf=1, min_samples_split=2,\n",
       "                       min_weight_fraction_leaf=0.0, presort='deprecated',\n",
       "                       random_state=None, splitter='best')"
      ]
     },
     "execution_count": 71,
     "metadata": {},
     "output_type": "execute_result"
    }
   ],
   "source": [
    "tree_model=tree.DecisionTreeClassifier()\n",
    "#Inserting all independent variables in one variable(here we took variables which has value greater than 0.5)\n",
    "X_var=pd.DataFrame([data[\"MonthlyIncome\"],data[\"Age\"],data[\"TotalWorkingYears\"],data[\"YearsAtCompany\"],data[\"PercentSalaryHike\"],data[\"DistanceFromHome\"]]).T\n",
    "#Bulding Decision tree model\n",
    "tree_model.fit(X=X_var,y=data[\"Attrition\"])"
   ]
  },
  {
   "cell_type": "code",
   "execution_count": 72,
   "metadata": {},
   "outputs": [],
   "source": [
    "#Loading Desicion tree in dot file for pictorial representation\n",
    "with open(\"C:/Users/Dell/Desktop/Dtree_Attrition.dot\",\"w\") as f:\n",
    "    f=tree.export_graphviz(tree_model,feature_names=[\"MonthlyIncome\",\"Age\",\"TotalWorkingYears\",\"YearsAtCompany\",\"PercentSalaryHike\",\"DistanceFromHome\"],out_file=f);"
   ]
  },
  {
   "cell_type": "code",
   "execution_count": 73,
   "metadata": {},
   "outputs": [
    {
     "data": {
      "text/plain": [
       "1.0"
      ]
     },
     "execution_count": 73,
     "metadata": {},
     "output_type": "execute_result"
    }
   ],
   "source": [
    "#finding Accuracy of model\n",
    "tree_model.score(X=X_var,y=data[\"Attrition\"])"
   ]
  },
  {
   "cell_type": "markdown",
   "metadata": {},
   "source": [
    "__Hence,By finding important features with help of random forest and taking it as independent variables we got the accuracy of tree model 100%__"
   ]
  }
 ],
 "metadata": {
  "kernelspec": {
   "display_name": "Python 3",
   "language": "python",
   "name": "python3"
  },
  "language_info": {
   "codemirror_mode": {
    "name": "ipython",
    "version": 3
   },
   "file_extension": ".py",
   "mimetype": "text/x-python",
   "name": "python",
   "nbconvert_exporter": "python",
   "pygments_lexer": "ipython3",
   "version": "3.7.6"
  }
 },
 "nbformat": 4,
 "nbformat_minor": 4
}
