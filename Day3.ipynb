{
 "cells": [
  {
   "cell_type": "markdown",
   "metadata": {},
   "source": [
    "__Assignment_1__"
   ]
  },
  {
   "cell_type": "code",
   "execution_count": 14,
   "metadata": {},
   "outputs": [
    {
     "name": "stdout",
     "output_type": "stream",
     "text": [
      "Answer =  (-2+0j)\n"
     ]
    }
   ],
   "source": [
    "num1=3+2j\n",
    "num2=5+2j\n",
    "print(\"Answer = \",(a-b))"
   ]
  },
  {
   "cell_type": "markdown",
   "metadata": {},
   "source": [
    "__Assignment_2__"
   ]
  },
  {
   "cell_type": "code",
   "execution_count": 15,
   "metadata": {},
   "outputs": [
    {
     "name": "stdout",
     "output_type": "stream",
     "text": [
      "Enter the number to find forth root : \n",
      "4\n",
      "The forth root of given number is :  256\n"
     ]
    }
   ],
   "source": [
    "print(\"Enter the number to find forth root : \")\n",
    "number=int(input())\n",
    "print(\"The forth root of given number is : \",(number**4))"
   ]
  },
  {
   "cell_type": "markdown",
   "metadata": {},
   "source": [
    "__Assignment_3__"
   ]
  },
  {
   "cell_type": "code",
   "execution_count": 16,
   "metadata": {},
   "outputs": [
    {
     "name": "stdout",
     "output_type": "stream",
     "text": [
      "Enter two numbers to swap :\n",
      "7\n",
      "8\n",
      "The numbers after swapping are : 8 7\n"
     ]
    }
   ],
   "source": [
    "print(\"Enter two numbers to swap :\")\n",
    "num1=int(input())\n",
    "num2=int(input())\n",
    "temp=num1\n",
    "num1=num2\n",
    "num2=temp\n",
    "print(\"The numbers after swapping are :\",num1,num2)"
   ]
  },
  {
   "cell_type": "markdown",
   "metadata": {},
   "source": [
    "__Assignment_4__"
   ]
  },
  {
   "cell_type": "code",
   "execution_count": 17,
   "metadata": {},
   "outputs": [
    {
     "name": "stdout",
     "output_type": "stream",
     "text": [
      "Enter two numbers to swap :\n",
      "6\n",
      "12\n",
      "The numbers after swapping are : 12 6\n"
     ]
    }
   ],
   "source": [
    "print(\"Enter two numbers to swap :\")\n",
    "num1=int(input())\n",
    "num2=int(input())\n",
    "num1,num2=num2,num1\n",
    "print(\"The numbers after swapping are :\",num1,num2)"
   ]
  },
  {
   "cell_type": "markdown",
   "metadata": {},
   "source": [
    "__Assignment_5__"
   ]
  },
  {
   "cell_type": "code",
   "execution_count": 18,
   "metadata": {},
   "outputs": [
    {
     "name": "stdout",
     "output_type": "stream",
     "text": [
      "Enter the Tempreture : \n",
      "32\n",
      "The given Tempreture in Celcius and Kelvin are : 0.0 , 273.15 respectively.\n"
     ]
    }
   ],
   "source": [
    "print(\"Enter the Tempreture : \")\n",
    "tempF=int(input())\n",
    "tempC=(((tempF-32)*5)/9)\n",
    "tempK=((((tempF-32)*5)/9)+273.15)\n",
    "print(\"The given Tempreture in Celcius and Kelvin are :\",tempC,\",\",tempK,\"respectively.\")"
   ]
  },
  {
   "cell_type": "markdown",
   "metadata": {},
   "source": [
    "__Assignment_6__"
   ]
  },
  {
   "cell_type": "code",
   "execution_count": 19,
   "metadata": {},
   "outputs": [
    {
     "name": "stdout",
     "output_type": "stream",
     "text": [
      "<class 'str'>\n",
      "<class 'int'>\n",
      "<class 'float'>\n",
      "<class 'complex'>\n"
     ]
    }
   ],
   "source": [
    "n1=\"Avanti_Taple\"\n",
    "n2=12\n",
    "n3=34.8877\n",
    "n4=4-9j\n",
    "print(type(n1))\n",
    "print(type(n2))\n",
    "print(type(n3))\n",
    "print(type(n4))"
   ]
  },
  {
   "cell_type": "markdown",
   "metadata": {},
   "source": [
    "__Assignment_7__"
   ]
  },
  {
   "cell_type": "markdown",
   "metadata": {},
   "source": [
    "1.Create a GitHub account by signing up on www.github.com\n",
    "\n",
    "2.Create a Github public repository and name it LetsUpgrade_AI/ML.\n",
    "\n",
    "3.Create the Assignment codes and save in same file location.\n",
    "\n",
    "4.Create the files and save in folder(your specified file location).\n",
    "\n",
    "5.Copy the path and paste it in repository.\n",
    "\n",
    "6.Copy the URL of GitHub and paste it in LetsUpgrade's GoogleForm.\n",
    "\n",
    "7.Submit the Google Form :)\n",
    "\n",
    "\n"
   ]
  }
 ],
 "metadata": {
  "kernelspec": {
   "display_name": "Python 3",
   "language": "python",
   "name": "python3"
  },
  "language_info": {
   "codemirror_mode": {
    "name": "ipython",
    "version": 3
   },
   "file_extension": ".py",
   "mimetype": "text/x-python",
   "name": "python",
   "nbconvert_exporter": "python",
   "pygments_lexer": "ipython3",
   "version": "3.7.6"
  }
 },
 "nbformat": 4,
 "nbformat_minor": 4
}
