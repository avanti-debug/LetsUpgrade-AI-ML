{
 "cells": [
  {
   "cell_type": "markdown",
   "metadata": {},
   "source": [
    "__Hypothesis Statement__:\n",
    "An alternator manufacturer must produce its alternators so that they are 95% confident that\n",
    "it runs at less than 71.1o C under stress test in order to meet the production requirements for sale to the\n",
    "US government. The stress test is performed on random samples drawn from the production line on a\n",
    "daily basis. Today’s sample of 7 alternators has a mean of 71.3o C and a standard deviation of 0.214o\n",
    ". Is\n",
    "there a production quality issue?"
   ]
  },
  {
   "cell_type": "markdown",
   "metadata": {},
   "source": [
    "null hypothesis:The population mean (H0) ≤ 71.1\n",
    "\n",
    "alternate hypothesis:The population mean > 71.1\n",
    "\n",
    " level of significance=95%i.e. 0.95\n",
    " \n",
    " The degrees of freedom are sample size minus one:7-1=6\n",
    " \n",
    " t table value is  1.943\n",
    " \n",
    " Tc=sample mean - populattion mean/(standard deviation/(sqrt.n))"
   ]
  },
  {
   "cell_type": "code",
   "execution_count": 1,
   "metadata": {},
   "outputs": [
    {
     "name": "stdout",
     "output_type": "stream",
     "text": [
      "2.4726647766959142\n"
     ]
    }
   ],
   "source": [
    "import math as m\n",
    "\n",
    "tc=(71.3-71.1)/0.214*(m.sqrt(7))\n",
    "print(tc)"
   ]
  },
  {
   "attachments": {},
   "cell_type": "markdown",
   "metadata": {},
   "source": [
    "as tc> t \n",
    "we would claim there is a problem with the production of alternators.\n"
   ]
  }
 ],
 "metadata": {
  "kernelspec": {
   "display_name": "Python 3",
   "language": "python",
   "name": "python3"
  },
  "language_info": {
   "codemirror_mode": {
    "name": "ipython",
    "version": 3
   },
   "file_extension": ".py",
   "mimetype": "text/x-python",
   "name": "python",
   "nbconvert_exporter": "python",
   "pygments_lexer": "ipython3",
   "version": "3.7.6"
  }
 },
 "nbformat": 4,
 "nbformat_minor": 4
}
