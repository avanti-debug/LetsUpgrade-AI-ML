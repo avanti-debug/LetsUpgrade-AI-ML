{
 "cells": [
  {
   "cell_type": "markdown",
   "metadata": {},
   "source": [
    "__Assignment_1__\n",
    "\n",
    " we can peform Addition,Subtraction,Multiplication,Division annd Floor Division with complex numbers.\n",
    " \n",
    " but,Modulo is __not__ possible with complex numbers."
   ]
  },
  {
   "cell_type": "code",
   "execution_count": 2,
   "metadata": {},
   "outputs": [
    {
     "name": "stdout",
     "output_type": "stream",
     "text": [
      "Enter two complex numbers :\n",
      "7+4j\n",
      "5-3j\n",
      "Addition of givn complex numbers are : (12+1j)\n",
      "Subtraction of givn complex numbers are : (2+7j)\n",
      "Multiplication of givn complex numbers are : (47-1j)\n",
      "Division of givn complex numbers are : (0.676470588235294+1.2058823529411764j)\n",
      "Floor Division of givn complex numbers are : (12+1j)\n"
     ]
    }
   ],
   "source": [
    "print(\"Enter two complex numbers :\")\n",
    "num1=complex(input())\n",
    "num2=complex(input())\n",
    "print(\"Addition of givn complex numbers are :\",(num1+num2))\n",
    "print(\"Subtraction of givn complex numbers are :\",(num1-num2))\n",
    "print(\"Multiplication of givn complex numbers are :\",(num1*num2))\n",
    "print(\"Division of givn complex numbers are :\",(num1/num2))\n",
    "print(\"Floor Division of givn complex numbers are :\",(num1+num2))"
   ]
  },
  {
   "cell_type": "markdown",
   "metadata": {},
   "source": [
    "__Assignment_2__\n",
    "\n",
    "The __range()__ function is used to access the numbers in sequence for given range from starting index(by default starting index is 1) to one less to ending index(i.e. if ending index given is n then it will go upto __n-1__ ) here, numbers are incremented by one (by dafault) wheater you can specify starting index,ending index,increment value of your choice."
   ]
  },
  {
   "cell_type": "markdown",
   "metadata": {},
   "source": [
    "__Question :__\n",
    "\n",
    "Print Even numbers from 0 to 40 without using modulo function "
   ]
  },
  {
   "cell_type": "code",
   "execution_count": 3,
   "metadata": {},
   "outputs": [
    {
     "name": "stdout",
     "output_type": "stream",
     "text": [
      "0\n",
      "2\n",
      "4\n",
      "6\n",
      "8\n",
      "10\n",
      "12\n",
      "14\n",
      "16\n",
      "18\n",
      "20\n",
      "22\n",
      "24\n",
      "26\n",
      "28\n",
      "30\n",
      "32\n",
      "34\n",
      "36\n",
      "38\n"
     ]
    }
   ],
   "source": [
    "for i in range(0,40,2):\n",
    "    print(i)"
   ]
  },
  {
   "cell_type": "markdown",
   "metadata": {},
   "source": [
    "__Assignment_3__"
   ]
  },
  {
   "cell_type": "code",
   "execution_count": 4,
   "metadata": {},
   "outputs": [
    {
     "name": "stdout",
     "output_type": "stream",
     "text": [
      "Enter Two Numbers :\n",
      "78\n",
      "45\n",
      "Multiplication of given numbers are : 3510\n"
     ]
    }
   ],
   "source": [
    "print(\"Enter Two Numbers :\")\n",
    "num1=int(input())\n",
    "num2=int(input())\n",
    "if abs(num1-num2)>25 :\n",
    "    print(\"Multiplication of given numbers are :\",num1*num2)\n",
    "else:\n",
    "        print(\"Division of given numbers are :\",num1/num2)\n",
    "    \n",
    "    "
   ]
  },
  {
   "cell_type": "markdown",
   "metadata": {},
   "source": [
    "__Assignment_4__"
   ]
  },
  {
   "cell_type": "code",
   "execution_count": 5,
   "metadata": {},
   "outputs": [
    {
     "name": "stdout",
     "output_type": "stream",
     "text": [
      "2\n",
      "14\n",
      "34\n",
      "62\n",
      "98\n"
     ]
    }
   ],
   "source": [
    "for i in range(1,11):\n",
    "    if i%2==0:\n",
    "        print(i*i-2)"
   ]
  },
  {
   "cell_type": "markdown",
   "metadata": {},
   "source": [
    "__Assignment_5__"
   ]
  },
  {
   "cell_type": "code",
   "execution_count": 6,
   "metadata": {},
   "outputs": [
    {
     "name": "stdout",
     "output_type": "stream",
     "text": [
      "10.5\n",
      "11.0\n",
      "11.5\n",
      "12.0\n",
      "12.5\n",
      "13.0\n",
      "13.5\n",
      "14.0\n",
      "14.5\n",
      "15.0\n"
     ]
    }
   ],
   "source": [
    "for i in range(21,31):\n",
    "    if i>7:\n",
    "        print(i/2)"
   ]
  }
 ],
 "metadata": {
  "kernelspec": {
   "display_name": "Python 3",
   "language": "python",
   "name": "python3"
  },
  "language_info": {
   "codemirror_mode": {
    "name": "ipython",
    "version": 3
   },
   "file_extension": ".py",
   "mimetype": "text/x-python",
   "name": "python",
   "nbconvert_exporter": "python",
   "pygments_lexer": "ipython3",
   "version": "3.7.6"
  }
 },
 "nbformat": 4,
 "nbformat_minor": 4
}
